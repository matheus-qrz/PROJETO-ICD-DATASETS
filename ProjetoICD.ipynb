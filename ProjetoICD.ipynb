{
 "cells": [
  {
   "cell_type": "code",
   "execution_count": 38,
   "id": "located-steering",
   "metadata": {},
   "outputs": [],
   "source": [
    "#STAR WARS segundo os fãs\n",
    "#Medidas de centralidade e dispersão dos Datasets\n",
    "#*pesquisa realizada com 471 pessoas que assistiram aos 6 filmes*\n",
    "##What's the best 'Star Wars' movie?\n",
    "## The Empire Strikes Back (36%)\n",
    "## A New Hope (27%)\n",
    "##Centralidade\n",
    "import numpy as np\n",
    "import statistics as sts\n",
    "import markdown\n",
    "\n",
    "html = markdown.markdown(\"#STAR WARS and its fans thoughts\")\n",
    "html = markdown.markdown(\"###Nome: Matheus Queiroz de Oliveira\")\n",
    "\n",
    "html = markdown.markdown(\"##Introdução\")\n",
    "html = markdown.markdown(\"Muito difícil hoje em dia falarmos dos grandes nomes do cinema sem citarmos a genial Guerra nas Estrelas de George Lucas. Saga esta que revolucionou o cinema da época de '77 com efeitos e história completa e de alto nível de ficção,\")\n",
    "html = markdowm.markdown(\"e seu mundo de esperanças, fortes referências e personagens autênticos. Sendo assim, muito se discute dentre os fãs sobre quais os melhores piores filmes, personanges, arcos, entre outros detalhes de sua grandiosa história,\")\n",
    "html = markdown.markdown(\"os quais muitas vezes podemos extrair interessantes informações cabíveis até mesmo a relação entre personalidade e arco ou personagem do filme, e também sobre suas atuais e futuras séries e tão esperadas live-actions.\")\n"
   ]
  },
  {
   "cell_type": "code",
   "execution_count": 3,
   "id": "english-makeup",
   "metadata": {},
   "outputs": [
    {
     "data": {
      "text/plain": [
       "145.33714285714285"
      ]
     },
     "execution_count": 3,
     "metadata": {},
     "output_type": "execute_result"
    }
   ],
   "source": [
    "html = markdown.markdown(\"##Dados utilizados\")\n",
    "html = markdown.markdown(\"Neste relatório, será abordado algumas perguntas de datasets utilizados do Buzzfeed e FiveThirtyEight.\")\n",
    "html = markdown.markdown(\"Os Datasets do FiveThirtyEight nos mostram dados de entrevistas e perguntas feitas a 471 pessoas a respeito de filmes e personagens dos 6 primeiros filmes,\")\n",
    "html = markdown.markdown(\"enquanto que no BuzzFeed, temos algumas fontes e especulações a respeito das futuras promessas da Saga Guerra nas Estrelas\")\n",
    "\n",
    "html = markdown.markdown(\"##Perguntas consideradas\")\n",
    "html = markdown.markdown(\"*1 - Segundo os dados do FiveThirtyEight, quais foram os dois melhores filmes de acordo com os fãs?\")\n",
    "\n",
    "two_best_movies = [169.56, 127.17] ##Os dois melhores filmes\n",
    "media_harmonica = sts.harmonic_mean(two_best_movies)\n",
    "\n",
    "print(f'Pelos dados de pesquisa, o vencedor foi \"O Império Contra-ataca\", com 36% dos votos, com uma média harmonica de: {media_harmonica.2f} entre o mesmo, e \"Uma Nova Esperança\", que segue com 27% dos votos.')"
   ]
  },
  {
   "cell_type": "code",
   "execution_count": 14,
   "id": "deadly-bahrain",
   "metadata": {},
   "outputs": [],
   "source": [
    "##Dispersão\n",
    "dispersao = sts.pvariance(x)"
   ]
  },
  {
   "cell_type": "code",
   "execution_count": 15,
   "id": "french-portable",
   "metadata": {},
   "outputs": [
    {
     "data": {
      "text/plain": [
       "449.228025"
      ]
     },
     "execution_count": 15,
     "metadata": {},
     "output_type": "execute_result"
    }
   ],
   "source": [
    "dispersao"
   ]
  },
  {
   "cell_type": "code",
   "execution_count": 18,
   "id": "aggregate-bracket",
   "metadata": {},
   "outputs": [],
   "source": [
    "html = markdown.markdown(\"#2 - Quais os filmes mais bem avaliados pelos fãs?\")\n",
    "html = markdown.markdown(\"Na liderança, continuamos com 'O Império Contra-ataca'(64% dos votos), seguindo de 'Uma Nova Esperança'(50%), e 'O Retorno dos Jedi'(43%).\")\n",
    "\n",
    "wellRated = [301.44, 235.5, 202.53]\n",
    "media_harmonica_goodrating = sts.harmonic_mean(wellRated)"
   ]
  },
  {
   "cell_type": "code",
   "execution_count": 30,
   "id": "pointed-error",
   "metadata": {},
   "outputs": [
    {
     "name": "stdout",
     "output_type": "stream",
     "text": [
      "A media harmonica foi: 239.98\n"
     ]
    }
   ],
   "source": [
    "print(f'A média harmônica dentre os filmes foi de {media_harmonica_goodrating:.2f},')"
   ]
  },
  {
   "cell_type": "code",
   "execution_count": 20,
   "id": "constant-adelaide",
   "metadata": {},
   "outputs": [],
   "source": [
    "dispersao_goodrating = sts.pvariance(wellRated)"
   ]
  },
  {
   "cell_type": "code",
   "execution_count": 31,
   "id": "civilian-characterization",
   "metadata": {},
   "outputs": [
    {
     "name": "stdout",
     "output_type": "stream",
     "text": [
      "A variação foi de: 1690.92\n"
     ]
    }
   ],
   "source": [
    "print(f'seguindo de uma variação de {dispersao_goodrating:.2f} dentre os mesmos.')"
   ]
  },
  {
   "cell_type": "code",
   "execution_count": 22,
   "id": "under-holly",
   "metadata": {},
   "outputs": [],
   "source": [
    "import sklearn \n",
    "from sklearn.cluster import KMeans\n",
    "\n",
    "modelGroup = KMeans()\n",
    "votes = media_harmonica_goodrating\n",
    "\n",
    "import matplotlib.pyplot as plt\n",
    "\n",
    "plt.scatter(votes[:, 0], votess[:, 1])\n",
    "plt.show()\n",
    "\n",
    "html = markdown.markdown(\"#3 - Quais os filmes mais mal avaliados dentre os fãs?\")\n",
    "html = markdown.markdown(\"O primeiro e polêmico mal avaliado 'Guerra dos Clones' obteve a maioria dos votos (57%), seguindo 'Vingança dos Sith'(47%) e 'Ameaça Fantasma'(46%))\n",
    "\n",
    "badlyRated = [268.47, 221.37, 216.66]\n",
    "media_harmonica_badrating = sts.harmonic_mean(badlyRated)"
   ]
  },
  {
   "cell_type": "code",
   "execution_count": 32,
   "id": "economic-aircraft",
   "metadata": {},
   "outputs": [
    {
     "name": "stdout",
     "output_type": "stream",
     "text": [
      "A média harmônica foi de: 233.32\n"
     ]
    }
   ],
   "source": [
    "print(f'A média harmônica foi de: {media_harmonica_badrating:.2f}')"
   ]
  },
  {
   "cell_type": "code",
   "execution_count": 33,
   "id": "encouraging-europe",
   "metadata": {},
   "outputs": [],
   "source": [
    "dispersao_badrating = sts.pvariance(badlyRated)"
   ]
  },
  {
   "cell_type": "code",
   "execution_count": 34,
   "id": "soviet-century",
   "metadata": {},
   "outputs": [
    {
     "name": "stdout",
     "output_type": "stream",
     "text": [
      "A variação foi de: 547.21\n"
     ]
    }
   ],
   "source": [
    "print(f'A variação foi de: {dispersao_badrating:.2f}')"
   ]
  },
  {
   "cell_type": "code",
   "execution_count": 10,
   "id": "abandoned-operator",
   "metadata": {},
   "outputs": [
    {
     "name": "stdout",
     "output_type": "stream",
     "text": [
      "      RespondentID  \\\n",
      "0              NaN   \n",
      "1     3.292880e+09   \n",
      "2     3.292880e+09   \n",
      "3     3.292765e+09   \n",
      "4     3.292763e+09   \n",
      "...            ...   \n",
      "1182  3.288389e+09   \n",
      "1183  3.288379e+09   \n",
      "1184  3.288375e+09   \n",
      "1185  3.288373e+09   \n",
      "1186  3.288373e+09   \n",
      "\n",
      "     Have you seen any of the 6 films in the Star Wars franchise?  \\\n",
      "0                                              Response             \n",
      "1                                                   Yes             \n",
      "2                                                    No             \n",
      "3                                                   Yes             \n",
      "4                                                   Yes             \n",
      "...                                                 ...             \n",
      "1182                                                Yes             \n",
      "1183                                                Yes             \n",
      "1184                                                 No             \n",
      "1185                                                Yes             \n",
      "1186                                                Yes             \n",
      "\n",
      "     Do you consider yourself to be a fan of the Star Wars film franchise?  \\\n",
      "0                                              Response                      \n",
      "1                                                   Yes                      \n",
      "2                                                   NaN                      \n",
      "3                                                    No                      \n",
      "4                                                   Yes                      \n",
      "...                                                 ...                      \n",
      "1182                                                Yes                      \n",
      "1183                                                Yes                      \n",
      "1184                                                NaN                      \n",
      "1185                                                Yes                      \n",
      "1186                                                 No                      \n",
      "\n",
      "     Which of the following Star Wars films have you seen? Please select all that apply.  \\\n",
      "0              Star Wars: Episode I  The Phantom Menace                                    \n",
      "1              Star Wars: Episode I  The Phantom Menace                                    \n",
      "2                                                   NaN                                    \n",
      "3              Star Wars: Episode I  The Phantom Menace                                    \n",
      "4              Star Wars: Episode I  The Phantom Menace                                    \n",
      "...                                                 ...                                    \n",
      "1182           Star Wars: Episode I  The Phantom Menace                                    \n",
      "1183           Star Wars: Episode I  The Phantom Menace                                    \n",
      "1184                                                NaN                                    \n",
      "1185           Star Wars: Episode I  The Phantom Menace                                    \n",
      "1186           Star Wars: Episode I  The Phantom Menace                                    \n",
      "\n",
      "                                       Unnamed: 4  \\\n",
      "0     Star Wars: Episode II  Attack of the Clones   \n",
      "1     Star Wars: Episode II  Attack of the Clones   \n",
      "2                                             NaN   \n",
      "3     Star Wars: Episode II  Attack of the Clones   \n",
      "4     Star Wars: Episode II  Attack of the Clones   \n",
      "...                                           ...   \n",
      "1182  Star Wars: Episode II  Attack of the Clones   \n",
      "1183  Star Wars: Episode II  Attack of the Clones   \n",
      "1184                                          NaN   \n",
      "1185  Star Wars: Episode II  Attack of the Clones   \n",
      "1186  Star Wars: Episode II  Attack of the Clones   \n",
      "\n",
      "                                       Unnamed: 5  \\\n",
      "0     Star Wars: Episode III  Revenge of the Sith   \n",
      "1     Star Wars: Episode III  Revenge of the Sith   \n",
      "2                                             NaN   \n",
      "3     Star Wars: Episode III  Revenge of the Sith   \n",
      "4     Star Wars: Episode III  Revenge of the Sith   \n",
      "...                                           ...   \n",
      "1182  Star Wars: Episode III  Revenge of the Sith   \n",
      "1183  Star Wars: Episode III  Revenge of the Sith   \n",
      "1184                                          NaN   \n",
      "1185  Star Wars: Episode III  Revenge of the Sith   \n",
      "1186                                          NaN   \n",
      "\n",
      "                             Unnamed: 6  \\\n",
      "0     Star Wars: Episode IV  A New Hope   \n",
      "1     Star Wars: Episode IV  A New Hope   \n",
      "2                                   NaN   \n",
      "3                                   NaN   \n",
      "4     Star Wars: Episode IV  A New Hope   \n",
      "...                                 ...   \n",
      "1182  Star Wars: Episode IV  A New Hope   \n",
      "1183  Star Wars: Episode IV  A New Hope   \n",
      "1184                                NaN   \n",
      "1185  Star Wars: Episode IV  A New Hope   \n",
      "1186                                NaN   \n",
      "\n",
      "                                        Unnamed: 7  \\\n",
      "0     Star Wars: Episode V The Empire Strikes Back   \n",
      "1     Star Wars: Episode V The Empire Strikes Back   \n",
      "2                                              NaN   \n",
      "3                                              NaN   \n",
      "4     Star Wars: Episode V The Empire Strikes Back   \n",
      "...                                            ...   \n",
      "1182  Star Wars: Episode V The Empire Strikes Back   \n",
      "1183  Star Wars: Episode V The Empire Strikes Back   \n",
      "1184                                           NaN   \n",
      "1185  Star Wars: Episode V The Empire Strikes Back   \n",
      "1186  Star Wars: Episode V The Empire Strikes Back   \n",
      "\n",
      "                                    Unnamed: 8  \\\n",
      "0     Star Wars: Episode VI Return of the Jedi   \n",
      "1     Star Wars: Episode VI Return of the Jedi   \n",
      "2                                          NaN   \n",
      "3                                          NaN   \n",
      "4     Star Wars: Episode VI Return of the Jedi   \n",
      "...                                        ...   \n",
      "1182  Star Wars: Episode VI Return of the Jedi   \n",
      "1183  Star Wars: Episode VI Return of the Jedi   \n",
      "1184                                       NaN   \n",
      "1185  Star Wars: Episode VI Return of the Jedi   \n",
      "1186  Star Wars: Episode VI Return of the Jedi   \n",
      "\n",
      "     Please rank the Star Wars films in order of preference with 1 being your favorite film in the franchise and 6 being your least favorite film.  \\\n",
      "0              Star Wars: Episode I  The Phantom Menace                                                                                              \n",
      "1                                                     3                                                                                              \n",
      "2                                                   NaN                                                                                              \n",
      "3                                                     1                                                                                              \n",
      "4                                                     5                                                                                              \n",
      "...                                                 ...                                                                                              \n",
      "1182                                                  5                                                                                              \n",
      "1183                                                  4                                                                                              \n",
      "1184                                                NaN                                                                                              \n",
      "1185                                                  4                                                                                              \n",
      "1186                                                  6                                                                                              \n",
      "\n",
      "      ...       Unnamed: 28       Which character shot first?  \\\n",
      "0     ...              Yoda                          Response   \n",
      "1     ...    Very favorably  I don't understand this question   \n",
      "2     ...               NaN                               NaN   \n",
      "3     ...  Unfamiliar (N/A)  I don't understand this question   \n",
      "4     ...    Very favorably  I don't understand this question   \n",
      "...   ...               ...                               ...   \n",
      "1182  ...    Very favorably                               Han   \n",
      "1183  ...    Very favorably  I don't understand this question   \n",
      "1184  ...               NaN                               NaN   \n",
      "1185  ...    Very favorably                               Han   \n",
      "1186  ...  Very unfavorably  I don't understand this question   \n",
      "\n",
      "     Are you familiar with the Expanded Universe?  \\\n",
      "0                                        Response   \n",
      "1                                             Yes   \n",
      "2                                             NaN   \n",
      "3                                              No   \n",
      "4                                              No   \n",
      "...                                           ...   \n",
      "1182                                           No   \n",
      "1183                                           No   \n",
      "1184                                          NaN   \n",
      "1185                                           No   \n",
      "1186                                           No   \n",
      "\n",
      "     Do you consider yourself to be a fan of the Expanded Universe?æ  \\\n",
      "0                                              Response                 \n",
      "1                                                    No                 \n",
      "2                                                   NaN                 \n",
      "3                                                   NaN                 \n",
      "4                                                   NaN                 \n",
      "...                                                 ...                 \n",
      "1182                                                NaN                 \n",
      "1183                                                NaN                 \n",
      "1184                                                NaN                 \n",
      "1185                                                NaN                 \n",
      "1186                                                NaN                 \n",
      "\n",
      "     Do you consider yourself to be a fan of the Star Trek franchise?  \\\n",
      "0                                              Response                 \n",
      "1                                                    No                 \n",
      "2                                                   Yes                 \n",
      "3                                                    No                 \n",
      "4                                                   Yes                 \n",
      "...                                                 ...                 \n",
      "1182                                                Yes                 \n",
      "1183                                                Yes                 \n",
      "1184                                                 No                 \n",
      "1185                                                Yes                 \n",
      "1186                                                 No                 \n",
      "\n",
      "        Gender       Age     Household Income  \\\n",
      "0     Response  Response             Response   \n",
      "1         Male     18-29                  NaN   \n",
      "2         Male     18-29         $0 - $24,999   \n",
      "3         Male     18-29         $0 - $24,999   \n",
      "4         Male     18-29  $100,000 - $149,999   \n",
      "...        ...       ...                  ...   \n",
      "1182    Female     18-29         $0 - $24,999   \n",
      "1183    Female     30-44    $50,000 - $99,999   \n",
      "1184    Female     30-44    $50,000 - $99,999   \n",
      "1185    Female     45-60  $100,000 - $149,999   \n",
      "1186    Female      > 60    $50,000 - $99,999   \n",
      "\n",
      "                             Education Location (Census Region)  \n",
      "0                             Response                 Response  \n",
      "1                   High school degree           South Atlantic  \n",
      "2                      Bachelor degree       West South Central  \n",
      "3                   High school degree       West North Central  \n",
      "4     Some college or Associate degree       West North Central  \n",
      "...                                ...                      ...  \n",
      "1182  Some college or Associate degree       East North Central  \n",
      "1183                   Bachelor degree                 Mountain  \n",
      "1184                   Bachelor degree          Middle Atlantic  \n",
      "1185  Some college or Associate degree       East North Central  \n",
      "1186                   Graduate degree                  Pacific  \n",
      "\n",
      "[1187 rows x 38 columns]\n"
     ]
    }
   ],
   "source": [
    "html = markdown.markdown(\"##Boxplot dos datasets\")\n",
    "html = markdown.markdown(\"Segue o arquivo CSV de informações.\")\n",
    "import pandas as pd\n",
    "\n",
    "bestMovies = pd.read_csv('https://raw.githubusercontent.com/fivethirtyeight/data/master/star-wars-survey/StarWars.csv', encoding=\"latin1\")\n",
    "\n",
    "print(bestMovies)"
   ]
  },
  {
   "cell_type": "code",
   "execution_count": null,
   "id": "oriental-chemistry",
   "metadata": {},
   "outputs": [],
   "source": [
    "html = markdown.markdown(\"#Conclusão\")\n",
    "html = markdown.markdown(\"Apesar de simples, tais perguntam podem nos dar traços e avaliações que podem influenciar no futuro da saga. Tendo em vista que cada filme possui um ar específicio, seja de mistério, a grandes batalhas ou até mesmo fortes revelações, os diretores e produtoras poderão se guair melhor de acordo com\")\n",
    "html = markdown.markdown(\"seu próprio público alvo.\")"
   ]
  }
 ],
 "metadata": {
  "kernelspec": {
   "display_name": "Python 3",
   "language": "python",
   "name": "python3"
  },
  "language_info": {
   "codemirror_mode": {
    "name": "ipython",
    "version": 3
   },
   "file_extension": ".py",
   "mimetype": "text/x-python",
   "name": "python",
   "nbconvert_exporter": "python",
   "pygments_lexer": "ipython3",
   "version": "3.8.10"
  }
 },
 "nbformat": 4,
 "nbformat_minor": 5
}
